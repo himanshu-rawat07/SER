{
 "cells": [
  {
   "cell_type": "code",
   "execution_count": 1,
   "id": "a7545da7-3af7-47ca-896b-37236eea77d9",
   "metadata": {
    "tags": []
   },
   "outputs": [],
   "source": [
    "import pandas as pd\n",
    "import numpy as np\n",
    "import os\n",
    "import librosa\n",
    "import librosa.display\n",
    "import seaborn as sns\n",
    "import matplotlib.pyplot as plt\n",
    "from sklearn.preprocessing import StandardScaler, OneHotEncoder\n",
    "from sklearn.metrics import confusion_matrix, classification_report\n",
    "from sklearn.model_selection import train_test_split\n",
    "from keras.models import Sequential\n",
    "from keras.layers import Conv1D, MaxPooling1D, AveragePooling1D,LSTM,BatchNormalization ,Dense,  Dropout\n",
    "import tensorflow as tf "
   ]
  },
  {
   "cell_type": "code",
   "execution_count": 2,
   "id": "f0f91272-c89b-4fd8-a41e-f41a74464e34",
   "metadata": {
    "tags": []
   },
   "outputs": [
    {
     "name": "stdout",
     "output_type": "stream",
     "text": [
      "RAVDESS/Dataset/\n"
     ]
    }
   ],
   "source": [
    "# path to the directory\n",
    "RAVD = \"RAVDESS/Dataset/\"\n",
    "print(RAVD)"
   ]
  },
  {
   "cell_type": "code",
   "execution_count": 3,
   "id": "73977edd-a55c-4db6-a481-d37a36212dc9",
   "metadata": {
    "tags": []
   },
   "outputs": [
    {
     "data": {
      "text/plain": [
       "male_neutral       144\n",
       "female_neutral     144\n",
       "male_happy          96\n",
       "male_sad            96\n",
       "male_angry          96\n",
       "male_fear           96\n",
       "male_disgust        96\n",
       "male_surprise       96\n",
       "female_happy        96\n",
       "female_sad          96\n",
       "female_angry        96\n",
       "female_fear         96\n",
       "female_disgust      96\n",
       "female_surprise     96\n",
       "Name: labels, dtype: int64"
      ]
     },
     "execution_count": 3,
     "metadata": {},
     "output_type": "execute_result"
    }
   ],
   "source": [
    "dirl_list = os.listdir(RAVD)\n",
    "dirl_list.sort()\n",
    "\n",
    "emotion = []\n",
    "gender = []\n",
    "path = []\n",
    "for i in dirl_list:\n",
    "    fname = os.listdir(RAVD + i)\n",
    "    for f in fname:\n",
    "        part = f.split('.')[0].split('-')\n",
    "        emotion.append(int(part[2]))\n",
    "        temp = int(part[6])\n",
    "        if temp%2 == 0:\n",
    "            temp = \"female\"\n",
    "        else:\n",
    "            temp = \"male\"\n",
    "        gender.append(temp)\n",
    "        path.append(RAVD + i + '/' + f)\n",
    "\n",
    "        \n",
    "RAVD_df = pd.DataFrame(emotion)\n",
    "RAVD_df = RAVD_df.replace({1:'neutral', 2:'neutral', 3:'happy', 4:'sad', 5:'angry', 6:'fear', 7:'disgust', 8:'surprise'})\n",
    "RAVD_df = pd.concat([pd.DataFrame(gender),RAVD_df],axis=1)\n",
    "RAVD_df.columns = ['gender','emotion']\n",
    "RAVD_df['labels'] =RAVD_df.gender + '_' + RAVD_df.emotion\n",
    "RAVD_df['source'] = 'RAVDESS'  \n",
    "RAVD_df = pd.concat([RAVD_df,pd.DataFrame(path, columns = ['path'])],axis=1)\n",
    "RAVD_df = RAVD_df.drop(['gender', 'emotion'], axis=1)\n",
    "RAVD_df.labels.value_counts()"
   ]
  },
  {
   "cell_type": "code",
   "execution_count": 4,
   "id": "ae27150e-b6af-4ee0-b5fb-6aed6bb226c0",
   "metadata": {
    "tags": []
   },
   "outputs": [],
   "source": [
    "# NOISE\n",
    "def noise(data):\n",
    "    noise_amp = 0.035*np.random.uniform()*np.amax(data)\n",
    "    data = data + noise_amp*np.random.normal(size=data.shape[0])\n",
    "    return data\n",
    "# STRETCH\n",
    "def stretch(data):\n",
    "    return librosa.effects.time_stretch(data,rate=0.8)\n",
    "# SHIFT\n",
    "def shift(data):\n",
    "    shift_range = int(np.random.uniform(low=-5, high = 5)*1000)\n",
    "    return np.roll(data, shift_range)\n",
    "# PITCH\n",
    "def pitch(data, sampling_rate):\n",
    "    return librosa.effects.pitch_shift(data, sr=sampling_rate, n_steps=0.7)"
   ]
  },
  {
   "cell_type": "code",
   "execution_count": 5,
   "id": "ff899e4c-c368-4d14-af67-2000ee772644",
   "metadata": {
    "tags": []
   },
   "outputs": [],
   "source": [
    "# Trying different functions above\n",
    "path = np.array(RAVD_df['path'])[471]\n",
    "data, sample_rate = librosa.load(path)"
   ]
  },
  {
   "cell_type": "code",
   "execution_count": 6,
   "id": "5c40ce8c-959e-4e6c-a230-26bf263a756a",
   "metadata": {
    "tags": []
   },
   "outputs": [],
   "source": [
    "def feat_ext(data):\n",
    "    mfcc = np.mean(librosa.feature.mfcc(y=data, sr=sample_rate).T, axis=0)\n",
    "    return mfcc\n",
    "\n",
    "def get_feat(path):\n",
    "    data, sample_rate = librosa.load(path, duration=2.5, offset=0.6)\n",
    "    # normal data\n",
    "    res1 = feat_ext(data)\n",
    "    result = np.array(res1)\n",
    "    #data with noise\n",
    "    noise_data = noise(data)\n",
    "    res2 = feat_ext(noise_data)\n",
    "    result = np.vstack((result, res2))\n",
    "    #data with stretch and pitch\n",
    "    new_data = stretch(data)\n",
    "    data_stretch_pitch = pitch(new_data, sample_rate)\n",
    "    res3 = feat_ext(data_stretch_pitch)\n",
    "    result = np.vstack((result, res3))\n",
    "    return result"
   ]
  },
  {
   "cell_type": "code",
   "execution_count": 7,
   "id": "72c8c1e7-b656-4982-ba9a-84264786308e",
   "metadata": {
    "tags": []
   },
   "outputs": [
    {
     "data": {
      "text/html": [
       "<div>\n",
       "<style scoped>\n",
       "    .dataframe tbody tr th:only-of-type {\n",
       "        vertical-align: middle;\n",
       "    }\n",
       "\n",
       "    .dataframe tbody tr th {\n",
       "        vertical-align: top;\n",
       "    }\n",
       "\n",
       "    .dataframe thead th {\n",
       "        text-align: right;\n",
       "    }\n",
       "</style>\n",
       "<table border=\"1\" class=\"dataframe\">\n",
       "  <thead>\n",
       "    <tr style=\"text-align: right;\">\n",
       "      <th></th>\n",
       "      <th>labels</th>\n",
       "      <th>source</th>\n",
       "      <th>path</th>\n",
       "    </tr>\n",
       "  </thead>\n",
       "  <tbody>\n",
       "    <tr>\n",
       "      <th>0</th>\n",
       "      <td>male_neutral</td>\n",
       "      <td>RAVDESS</td>\n",
       "      <td>RAVDESS/Dataset/Actor_01/03-01-01-01-01-01-01.wav</td>\n",
       "    </tr>\n",
       "    <tr>\n",
       "      <th>1</th>\n",
       "      <td>male_neutral</td>\n",
       "      <td>RAVDESS</td>\n",
       "      <td>RAVDESS/Dataset/Actor_01/03-01-01-01-01-02-01.wav</td>\n",
       "    </tr>\n",
       "    <tr>\n",
       "      <th>2</th>\n",
       "      <td>male_neutral</td>\n",
       "      <td>RAVDESS</td>\n",
       "      <td>RAVDESS/Dataset/Actor_01/03-01-01-01-02-01-01.wav</td>\n",
       "    </tr>\n",
       "    <tr>\n",
       "      <th>3</th>\n",
       "      <td>male_neutral</td>\n",
       "      <td>RAVDESS</td>\n",
       "      <td>RAVDESS/Dataset/Actor_01/03-01-01-01-02-02-01.wav</td>\n",
       "    </tr>\n",
       "    <tr>\n",
       "      <th>4</th>\n",
       "      <td>male_neutral</td>\n",
       "      <td>RAVDESS</td>\n",
       "      <td>RAVDESS/Dataset/Actor_01/03-01-02-01-01-01-01.wav</td>\n",
       "    </tr>\n",
       "  </tbody>\n",
       "</table>\n",
       "</div>"
      ],
      "text/plain": [
       "         labels   source                                               path\n",
       "0  male_neutral  RAVDESS  RAVDESS/Dataset/Actor_01/03-01-01-01-01-01-01.wav\n",
       "1  male_neutral  RAVDESS  RAVDESS/Dataset/Actor_01/03-01-01-01-01-02-01.wav\n",
       "2  male_neutral  RAVDESS  RAVDESS/Dataset/Actor_01/03-01-01-01-02-01-01.wav\n",
       "3  male_neutral  RAVDESS  RAVDESS/Dataset/Actor_01/03-01-01-01-02-02-01.wav\n",
       "4  male_neutral  RAVDESS  RAVDESS/Dataset/Actor_01/03-01-02-01-01-01-01.wav"
      ]
     },
     "execution_count": 7,
     "metadata": {},
     "output_type": "execute_result"
    }
   ],
   "source": [
    "RAVD_df.head()"
   ]
  },
  {
   "cell_type": "code",
   "execution_count": 8,
   "id": "9d90333c-65f4-4108-b20a-2978278bd0c9",
   "metadata": {
    "tags": []
   },
   "outputs": [],
   "source": [
    "X, Y = [], []\n",
    "for path, emotion in zip(RAVD_df['path'], RAVD_df['labels']):\n",
    "    feature = get_feat(path)\n",
    "    for ele in feature:\n",
    "        X.append(ele)\n",
    "        Y.append(emotion)"
   ]
  },
  {
   "cell_type": "code",
   "execution_count": 9,
   "id": "77b329aa-63b9-4a4b-96da-a7374b636d6d",
   "metadata": {
    "tags": []
   },
   "outputs": [
    {
     "data": {
      "text/html": [
       "<div>\n",
       "<style scoped>\n",
       "    .dataframe tbody tr th:only-of-type {\n",
       "        vertical-align: middle;\n",
       "    }\n",
       "\n",
       "    .dataframe tbody tr th {\n",
       "        vertical-align: top;\n",
       "    }\n",
       "\n",
       "    .dataframe thead th {\n",
       "        text-align: right;\n",
       "    }\n",
       "</style>\n",
       "<table border=\"1\" class=\"dataframe\">\n",
       "  <thead>\n",
       "    <tr style=\"text-align: right;\">\n",
       "      <th></th>\n",
       "      <th>0</th>\n",
       "      <th>1</th>\n",
       "      <th>2</th>\n",
       "      <th>3</th>\n",
       "      <th>4</th>\n",
       "      <th>5</th>\n",
       "      <th>6</th>\n",
       "      <th>7</th>\n",
       "      <th>8</th>\n",
       "      <th>9</th>\n",
       "      <th>...</th>\n",
       "      <th>11</th>\n",
       "      <th>12</th>\n",
       "      <th>13</th>\n",
       "      <th>14</th>\n",
       "      <th>15</th>\n",
       "      <th>16</th>\n",
       "      <th>17</th>\n",
       "      <th>18</th>\n",
       "      <th>19</th>\n",
       "      <th>labels</th>\n",
       "    </tr>\n",
       "  </thead>\n",
       "  <tbody>\n",
       "    <tr>\n",
       "      <th>0</th>\n",
       "      <td>-645.880737</td>\n",
       "      <td>72.619637</td>\n",
       "      <td>0.841305</td>\n",
       "      <td>16.399446</td>\n",
       "      <td>10.241591</td>\n",
       "      <td>0.653901</td>\n",
       "      <td>-4.328002</td>\n",
       "      <td>-4.258932</td>\n",
       "      <td>-14.575824</td>\n",
       "      <td>-3.806285</td>\n",
       "      <td>...</td>\n",
       "      <td>-4.042665</td>\n",
       "      <td>2.519602</td>\n",
       "      <td>-4.972247</td>\n",
       "      <td>0.566447</td>\n",
       "      <td>1.035527</td>\n",
       "      <td>-5.416451</td>\n",
       "      <td>-2.449469</td>\n",
       "      <td>-1.782306</td>\n",
       "      <td>-1.212806</td>\n",
       "      <td>male_neutral</td>\n",
       "    </tr>\n",
       "    <tr>\n",
       "      <th>1</th>\n",
       "      <td>-464.352938</td>\n",
       "      <td>35.099598</td>\n",
       "      <td>7.859345</td>\n",
       "      <td>10.359874</td>\n",
       "      <td>5.908057</td>\n",
       "      <td>-0.696702</td>\n",
       "      <td>-3.446659</td>\n",
       "      <td>-7.037556</td>\n",
       "      <td>-9.921493</td>\n",
       "      <td>-6.222395</td>\n",
       "      <td>...</td>\n",
       "      <td>-2.087463</td>\n",
       "      <td>-1.622157</td>\n",
       "      <td>-2.390549</td>\n",
       "      <td>-0.620618</td>\n",
       "      <td>0.513910</td>\n",
       "      <td>-3.323046</td>\n",
       "      <td>-3.454055</td>\n",
       "      <td>-0.703648</td>\n",
       "      <td>-3.102154</td>\n",
       "      <td>male_neutral</td>\n",
       "    </tr>\n",
       "    <tr>\n",
       "      <th>2</th>\n",
       "      <td>-712.554077</td>\n",
       "      <td>70.982697</td>\n",
       "      <td>-0.730810</td>\n",
       "      <td>16.815830</td>\n",
       "      <td>7.990942</td>\n",
       "      <td>-0.822050</td>\n",
       "      <td>-6.391445</td>\n",
       "      <td>-6.146833</td>\n",
       "      <td>-15.975613</td>\n",
       "      <td>-0.313743</td>\n",
       "      <td>...</td>\n",
       "      <td>-3.398212</td>\n",
       "      <td>2.348455</td>\n",
       "      <td>-6.031178</td>\n",
       "      <td>1.242807</td>\n",
       "      <td>-1.837245</td>\n",
       "      <td>-5.671288</td>\n",
       "      <td>-3.115946</td>\n",
       "      <td>-1.071852</td>\n",
       "      <td>-4.964334</td>\n",
       "      <td>male_neutral</td>\n",
       "    </tr>\n",
       "    <tr>\n",
       "      <th>3</th>\n",
       "      <td>-634.663269</td>\n",
       "      <td>72.324066</td>\n",
       "      <td>-2.998578</td>\n",
       "      <td>20.209740</td>\n",
       "      <td>10.674217</td>\n",
       "      <td>-1.151011</td>\n",
       "      <td>-2.813592</td>\n",
       "      <td>-7.923956</td>\n",
       "      <td>-16.231958</td>\n",
       "      <td>-2.627547</td>\n",
       "      <td>...</td>\n",
       "      <td>-4.167823</td>\n",
       "      <td>0.719305</td>\n",
       "      <td>-4.954944</td>\n",
       "      <td>-0.688254</td>\n",
       "      <td>0.114427</td>\n",
       "      <td>-6.475232</td>\n",
       "      <td>-1.695712</td>\n",
       "      <td>-2.899729</td>\n",
       "      <td>0.377745</td>\n",
       "      <td>male_neutral</td>\n",
       "    </tr>\n",
       "    <tr>\n",
       "      <th>4</th>\n",
       "      <td>-504.513194</td>\n",
       "      <td>41.542561</td>\n",
       "      <td>5.826739</td>\n",
       "      <td>13.918396</td>\n",
       "      <td>7.391273</td>\n",
       "      <td>-1.736970</td>\n",
       "      <td>-3.448119</td>\n",
       "      <td>-8.976390</td>\n",
       "      <td>-12.569323</td>\n",
       "      <td>-5.130380</td>\n",
       "      <td>...</td>\n",
       "      <td>-2.969334</td>\n",
       "      <td>-2.081280</td>\n",
       "      <td>-3.003049</td>\n",
       "      <td>-0.797526</td>\n",
       "      <td>-0.272498</td>\n",
       "      <td>-4.847971</td>\n",
       "      <td>-3.838261</td>\n",
       "      <td>-0.704348</td>\n",
       "      <td>-1.999350</td>\n",
       "      <td>male_neutral</td>\n",
       "    </tr>\n",
       "  </tbody>\n",
       "</table>\n",
       "<p>5 rows × 21 columns</p>\n",
       "</div>"
      ],
      "text/plain": [
       "            0          1         2          3          4         5         6  \\\n",
       "0 -645.880737  72.619637  0.841305  16.399446  10.241591  0.653901 -4.328002   \n",
       "1 -464.352938  35.099598  7.859345  10.359874   5.908057 -0.696702 -3.446659   \n",
       "2 -712.554077  70.982697 -0.730810  16.815830   7.990942 -0.822050 -6.391445   \n",
       "3 -634.663269  72.324066 -2.998578  20.209740  10.674217 -1.151011 -2.813592   \n",
       "4 -504.513194  41.542561  5.826739  13.918396   7.391273 -1.736970 -3.448119   \n",
       "\n",
       "          7          8         9  ...        11        12        13        14  \\\n",
       "0 -4.258932 -14.575824 -3.806285  ... -4.042665  2.519602 -4.972247  0.566447   \n",
       "1 -7.037556  -9.921493 -6.222395  ... -2.087463 -1.622157 -2.390549 -0.620618   \n",
       "2 -6.146833 -15.975613 -0.313743  ... -3.398212  2.348455 -6.031178  1.242807   \n",
       "3 -7.923956 -16.231958 -2.627547  ... -4.167823  0.719305 -4.954944 -0.688254   \n",
       "4 -8.976390 -12.569323 -5.130380  ... -2.969334 -2.081280 -3.003049 -0.797526   \n",
       "\n",
       "         15        16        17        18        19        labels  \n",
       "0  1.035527 -5.416451 -2.449469 -1.782306 -1.212806  male_neutral  \n",
       "1  0.513910 -3.323046 -3.454055 -0.703648 -3.102154  male_neutral  \n",
       "2 -1.837245 -5.671288 -3.115946 -1.071852 -4.964334  male_neutral  \n",
       "3  0.114427 -6.475232 -1.695712 -2.899729  0.377745  male_neutral  \n",
       "4 -0.272498 -4.847971 -3.838261 -0.704348 -1.999350  male_neutral  \n",
       "\n",
       "[5 rows x 21 columns]"
      ]
     },
     "execution_count": 9,
     "metadata": {},
     "output_type": "execute_result"
    }
   ],
   "source": [
    "Emotions = pd.DataFrame(X)\n",
    "Emotions['labels'] = Y\n",
    "Emotions.to_csv('emotion.csv', index=False)\n",
    "Emotions.head()"
   ]
  },
  {
   "cell_type": "code",
   "execution_count": 10,
   "id": "5980b666-641e-46c9-b6a0-d42487bc0a9e",
   "metadata": {
    "tags": []
   },
   "outputs": [],
   "source": [
    "X = Emotions.iloc[: ,:-1].values\n",
    "Y = Emotions['labels'].values"
   ]
  },
  {
   "cell_type": "code",
   "execution_count": 11,
   "id": "54471a60-30d1-4e2d-8b0c-13ab9e1a2b48",
   "metadata": {
    "tags": []
   },
   "outputs": [],
   "source": [
    "# As this is a multiclass classification problem onehotencoding our Y\n",
    "encoder = OneHotEncoder()\n",
    "Y = encoder.fit_transform(np.array(Y).reshape(-1,1)).toarray()"
   ]
  },
  {
   "cell_type": "code",
   "execution_count": 12,
   "id": "01f51470-34ef-4f7c-abe5-4116942757a1",
   "metadata": {
    "tags": []
   },
   "outputs": [
    {
     "data": {
      "text/plain": [
       "((3240, 20), (3240, 14), (1080, 20), (1080, 14))"
      ]
     },
     "execution_count": 12,
     "metadata": {},
     "output_type": "execute_result"
    }
   ],
   "source": [
    "# Train and Test Split \n",
    "x_train, x_test, y_train, y_test = train_test_split(X, Y, random_state=0, shuffle=True)\n",
    "x_train.shape, y_train.shape, x_test.shape, y_test.shape"
   ]
  },
  {
   "cell_type": "code",
   "execution_count": 13,
   "id": "ebffef40-52e1-4746-8617-3693fab48baa",
   "metadata": {
    "tags": []
   },
   "outputs": [
    {
     "data": {
      "text/plain": [
       "((3240, 20), (3240, 14), (1080, 20), (1080, 14))"
      ]
     },
     "execution_count": 13,
     "metadata": {},
     "output_type": "execute_result"
    }
   ],
   "source": [
    "# scaling our data with sklearn's Standard scaler\n",
    "scaler = StandardScaler()\n",
    "x_train = scaler.fit_transform(x_train)\n",
    "x_test = scaler.transform(x_test)\n",
    "x_train.shape, y_train.shape, x_test.shape, y_test.shape"
   ]
  },
  {
   "cell_type": "code",
   "execution_count": 14,
   "id": "d94ba9fd-57a1-4397-be4d-7e813d60ed38",
   "metadata": {
    "tags": []
   },
   "outputs": [
    {
     "data": {
      "text/plain": [
       "((3240, 20, 1), (3240, 14), (1080, 20, 1), (1080, 14))"
      ]
     },
     "execution_count": 14,
     "metadata": {},
     "output_type": "execute_result"
    }
   ],
   "source": [
    "#CNN\n",
    "x_traincnn =np.expand_dims(x_train, axis=2)\n",
    "x_testcnn= np.expand_dims(x_test, axis=2)\n",
    "x_traincnn.shape, y_train.shape, x_testcnn.shape, y_test.shape"
   ]
  },
  {
   "cell_type": "code",
   "execution_count": 16,
   "id": "dbbca6c6-2c1a-4d89-b455-1b8a401b71cb",
   "metadata": {
    "tags": []
   },
   "outputs": [
    {
     "name": "stdout",
     "output_type": "stream",
     "text": [
      "Model: \"sequential\"\n",
      "_________________________________________________________________\n",
      " Layer (type)                Output Shape              Param #   \n",
      "=================================================================\n",
      " conv1d (Conv1D)             (None, 20, 2048)          12288     \n",
      "                                                                 \n",
      " max_pooling1d (MaxPooling1D  (None, 10, 2048)         0         \n",
      " )                                                               \n",
      "                                                                 \n",
      " batch_normalization (BatchN  (None, 10, 2048)         8192      \n",
      " ormalization)                                                   \n",
      "                                                                 \n",
      " conv1d_1 (Conv1D)           (None, 10, 1024)          10486784  \n",
      "                                                                 \n",
      " max_pooling1d_1 (MaxPooling  (None, 5, 1024)          0         \n",
      " 1D)                                                             \n",
      "                                                                 \n",
      " batch_normalization_1 (Batc  (None, 5, 1024)          4096      \n",
      " hNormalization)                                                 \n",
      "                                                                 \n",
      " conv1d_2 (Conv1D)           (None, 5, 512)            2621952   \n",
      "                                                                 \n",
      " max_pooling1d_2 (MaxPooling  (None, 3, 512)           0         \n",
      " 1D)                                                             \n",
      "                                                                 \n",
      " batch_normalization_2 (Batc  (None, 3, 512)           2048      \n",
      " hNormalization)                                                 \n",
      "                                                                 \n",
      " lstm (LSTM)                 (None, 3, 256)            787456    \n",
      "                                                                 \n",
      " lstm_1 (LSTM)               (None, 128)               197120    \n",
      "                                                                 \n",
      " dense (Dense)               (None, 128)               16512     \n",
      "                                                                 \n",
      " dropout (Dropout)           (None, 128)               0         \n",
      "                                                                 \n",
      " dense_1 (Dense)             (None, 64)                8256      \n",
      "                                                                 \n",
      " dropout_1 (Dropout)         (None, 64)                0         \n",
      "                                                                 \n",
      " dense_2 (Dense)             (None, 32)                2080      \n",
      "                                                                 \n",
      " dropout_2 (Dropout)         (None, 32)                0         \n",
      "                                                                 \n",
      " dense_3 (Dense)             (None, 14)                462       \n",
      "                                                                 \n",
      "=================================================================\n",
      "Total params: 14,147,246\n",
      "Trainable params: 14,140,078\n",
      "Non-trainable params: 7,168\n",
      "_________________________________________________________________\n"
     ]
    }
   ],
   "source": [
    "#CNN\n",
    "model = Sequential()\n",
    "model.add(Conv1D(2048, kernel_size=5, strides=1, padding='same', activation='relu', input_shape=(x_train.shape[1], 1)))\n",
    "model.add(MaxPooling1D(pool_size=2, strides = 2, padding = 'same'))\n",
    "model.add(BatchNormalization())\n",
    "\n",
    "model.add(Conv1D(1024, kernel_size=5, strides=1, padding='same', activation='relu'))\n",
    "model.add(MaxPooling1D(pool_size=2, strides = 2, padding = 'same'))\n",
    "model.add(BatchNormalization())\n",
    "\n",
    "model.add(Conv1D(512, kernel_size=5, strides=1, padding='same', activation='relu'))\n",
    "model.add(MaxPooling1D(pool_size=2, strides = 2, padding = 'same'))\n",
    "model.add(BatchNormalization())\n",
    "\n",
    "model.add(LSTM(256, return_sequences=True))\n",
    "\n",
    "model.add(LSTM(128))\n",
    "\n",
    "model.add(Dense(128, activation='relu'))\n",
    "model.add(Dropout(0.5))\n",
    "\n",
    "model.add(Dense(64, activation='relu'))\n",
    "model.add(Dropout(0.5))\n",
    "\n",
    "model.add(Dense(32, activation='relu'))\n",
    "model.add(Dropout(0.2))\n",
    "\n",
    "model.add(Dense(14, activation='softmax'))\n",
    "\n",
    "optimiser = tf.keras.optimizers.Adam(learning_rate=0.0001)\n",
    "model.compile(optimizer=optimiser,\n",
    "                  loss='categorical_crossentropy',\n",
    "                  metrics=['accuracy'])\n",
    "\n",
    "model.summary()"
   ]
  },
  {
   "cell_type": "code",
   "execution_count": 17,
   "id": "366f186a-d03e-46dc-b13e-ff3745ddbb91",
   "metadata": {},
   "outputs": [
    {
     "name": "stdout",
     "output_type": "stream",
     "text": [
      "Epoch 1/150\n",
      "51/51 [==============================] - 102s 2s/step - loss: 2.5994 - accuracy: 0.1130 - val_loss: 2.6324 - val_accuracy: 0.1194\n",
      "Epoch 2/150\n",
      "51/51 [==============================] - 100s 2s/step - loss: 2.5346 - accuracy: 0.1590 - val_loss: 2.6254 - val_accuracy: 0.1111\n",
      "Epoch 3/150\n",
      "51/51 [==============================] - 97s 2s/step - loss: 2.4592 - accuracy: 0.1904 - val_loss: 2.6102 - val_accuracy: 0.1491\n",
      "Epoch 4/150\n",
      "51/51 [==============================] - 97s 2s/step - loss: 2.3659 - accuracy: 0.2204 - val_loss: 2.6059 - val_accuracy: 0.1324\n",
      "Epoch 5/150\n",
      "51/51 [==============================] - 97s 2s/step - loss: 2.2638 - accuracy: 0.2497 - val_loss: 2.5995 - val_accuracy: 0.1037\n",
      "Epoch 6/150\n",
      "51/51 [==============================] - 98s 2s/step - loss: 2.1862 - accuracy: 0.2694 - val_loss: 2.5677 - val_accuracy: 0.0963\n",
      "Epoch 7/150\n",
      "51/51 [==============================] - 98s 2s/step - loss: 2.0518 - accuracy: 0.3043 - val_loss: 2.4975 - val_accuracy: 0.1787\n",
      "Epoch 8/150\n",
      "51/51 [==============================] - 98s 2s/step - loss: 1.9711 - accuracy: 0.3179 - val_loss: 2.3057 - val_accuracy: 0.2815\n",
      "Epoch 9/150\n",
      "51/51 [==============================] - 98s 2s/step - loss: 1.8899 - accuracy: 0.3318 - val_loss: 2.1339 - val_accuracy: 0.2787\n",
      "Epoch 10/150\n",
      "51/51 [==============================] - 98s 2s/step - loss: 1.8057 - accuracy: 0.3485 - val_loss: 1.9963 - val_accuracy: 0.2972\n",
      "Epoch 11/150\n",
      "51/51 [==============================] - 98s 2s/step - loss: 1.7435 - accuracy: 0.3676 - val_loss: 1.7661 - val_accuracy: 0.3648\n",
      "Epoch 12/150\n",
      "51/51 [==============================] - 98s 2s/step - loss: 1.6525 - accuracy: 0.3886 - val_loss: 1.5440 - val_accuracy: 0.4241\n",
      "Epoch 13/150\n",
      "51/51 [==============================] - 98s 2s/step - loss: 1.5916 - accuracy: 0.4065 - val_loss: 1.4046 - val_accuracy: 0.4565\n",
      "Epoch 14/150\n",
      "51/51 [==============================] - 98s 2s/step - loss: 1.5294 - accuracy: 0.4299 - val_loss: 1.3887 - val_accuracy: 0.4843\n",
      "Epoch 15/150\n",
      "51/51 [==============================] - 98s 2s/step - loss: 1.4874 - accuracy: 0.4429 - val_loss: 1.2994 - val_accuracy: 0.5204\n",
      "Epoch 16/150\n",
      "51/51 [==============================] - 98s 2s/step - loss: 1.4271 - accuracy: 0.4735 - val_loss: 1.2365 - val_accuracy: 0.5537\n",
      "Epoch 17/150\n",
      "51/51 [==============================] - 98s 2s/step - loss: 1.3705 - accuracy: 0.4824 - val_loss: 1.2372 - val_accuracy: 0.5750\n",
      "Epoch 18/150\n",
      "51/51 [==============================] - 98s 2s/step - loss: 1.3143 - accuracy: 0.5031 - val_loss: 1.2368 - val_accuracy: 0.5963\n",
      "Epoch 19/150\n",
      "51/51 [==============================] - 98s 2s/step - loss: 1.2714 - accuracy: 0.5225 - val_loss: 1.1669 - val_accuracy: 0.6204\n",
      "Epoch 20/150\n",
      "51/51 [==============================] - 98s 2s/step - loss: 1.1842 - accuracy: 0.5515 - val_loss: 1.0451 - val_accuracy: 0.6713\n",
      "Epoch 21/150\n",
      "51/51 [==============================] - 98s 2s/step - loss: 1.1305 - accuracy: 0.5722 - val_loss: 1.0370 - val_accuracy: 0.6889\n",
      "Epoch 22/150\n",
      "51/51 [==============================] - 98s 2s/step - loss: 1.0429 - accuracy: 0.6108 - val_loss: 1.0309 - val_accuracy: 0.6713\n",
      "Epoch 23/150\n",
      "51/51 [==============================] - 98s 2s/step - loss: 0.9971 - accuracy: 0.6253 - val_loss: 1.0080 - val_accuracy: 0.6852\n",
      "Epoch 24/150\n",
      "51/51 [==============================] - 98s 2s/step - loss: 0.9587 - accuracy: 0.6438 - val_loss: 0.9849 - val_accuracy: 0.7130\n",
      "Epoch 25/150\n",
      "51/51 [==============================] - 98s 2s/step - loss: 0.9265 - accuracy: 0.6519 - val_loss: 0.9422 - val_accuracy: 0.7139\n",
      "Epoch 26/150\n",
      "51/51 [==============================] - 98s 2s/step - loss: 0.8445 - accuracy: 0.6812 - val_loss: 0.9082 - val_accuracy: 0.7352\n",
      "Epoch 27/150\n",
      "51/51 [==============================] - 98s 2s/step - loss: 0.8156 - accuracy: 0.6824 - val_loss: 0.9615 - val_accuracy: 0.7407\n",
      "Epoch 28/150\n",
      "51/51 [==============================] - 98s 2s/step - loss: 0.7901 - accuracy: 0.6966 - val_loss: 0.9145 - val_accuracy: 0.7324\n",
      "Epoch 29/150\n",
      "51/51 [==============================] - 98s 2s/step - loss: 0.8042 - accuracy: 0.7071 - val_loss: 0.9425 - val_accuracy: 0.7352\n",
      "Epoch 30/150\n",
      "51/51 [==============================] - 98s 2s/step - loss: 0.7237 - accuracy: 0.7355 - val_loss: 0.9250 - val_accuracy: 0.7481\n",
      "Epoch 31/150\n",
      "51/51 [==============================] - 98s 2s/step - loss: 0.6786 - accuracy: 0.7377 - val_loss: 0.9159 - val_accuracy: 0.7648\n",
      "Epoch 32/150\n",
      "51/51 [==============================] - 98s 2s/step - loss: 0.6838 - accuracy: 0.7481 - val_loss: 0.8988 - val_accuracy: 0.7574\n",
      "Epoch 33/150\n",
      "51/51 [==============================] - 98s 2s/step - loss: 0.6076 - accuracy: 0.7830 - val_loss: 0.9462 - val_accuracy: 0.7574\n",
      "Epoch 34/150\n",
      "51/51 [==============================] - 98s 2s/step - loss: 0.6128 - accuracy: 0.7765 - val_loss: 0.9176 - val_accuracy: 0.7870\n",
      "Epoch 35/150\n",
      "51/51 [==============================] - 98s 2s/step - loss: 0.6024 - accuracy: 0.7815 - val_loss: 0.8577 - val_accuracy: 0.7750\n",
      "Epoch 36/150\n",
      "51/51 [==============================] - 98s 2s/step - loss: 0.6118 - accuracy: 0.7701 - val_loss: 0.9722 - val_accuracy: 0.7611\n",
      "Epoch 37/150\n",
      "51/51 [==============================] - 98s 2s/step - loss: 0.5655 - accuracy: 0.8037 - val_loss: 0.9447 - val_accuracy: 0.7787\n",
      "Epoch 38/150\n",
      "51/51 [==============================] - 98s 2s/step - loss: 0.5617 - accuracy: 0.8022 - val_loss: 0.8486 - val_accuracy: 0.7833\n",
      "Epoch 39/150\n",
      "51/51 [==============================] - 98s 2s/step - loss: 0.4914 - accuracy: 0.8188 - val_loss: 0.8369 - val_accuracy: 0.8037\n",
      "Epoch 40/150\n",
      "51/51 [==============================] - 98s 2s/step - loss: 0.4720 - accuracy: 0.8321 - val_loss: 0.8087 - val_accuracy: 0.8074\n",
      "Epoch 41/150\n",
      "51/51 [==============================] - 98s 2s/step - loss: 0.4648 - accuracy: 0.8361 - val_loss: 0.9527 - val_accuracy: 0.7972\n",
      "Epoch 42/150\n",
      "51/51 [==============================] - 98s 2s/step - loss: 0.4590 - accuracy: 0.8380 - val_loss: 1.0781 - val_accuracy: 0.7769\n",
      "Epoch 43/150\n",
      "51/51 [==============================] - 98s 2s/step - loss: 0.4430 - accuracy: 0.8386 - val_loss: 0.9154 - val_accuracy: 0.8009\n",
      "Epoch 44/150\n",
      "51/51 [==============================] - 98s 2s/step - loss: 0.4516 - accuracy: 0.8429 - val_loss: 0.8519 - val_accuracy: 0.8139\n",
      "Epoch 45/150\n",
      "51/51 [==============================] - 98s 2s/step - loss: 0.3994 - accuracy: 0.8614 - val_loss: 0.9955 - val_accuracy: 0.7926\n",
      "Epoch 46/150\n",
      "51/51 [==============================] - 98s 2s/step - loss: 0.3872 - accuracy: 0.8645 - val_loss: 0.9264 - val_accuracy: 0.8028\n",
      "Epoch 47/150\n",
      "51/51 [==============================] - 98s 2s/step - loss: 0.3471 - accuracy: 0.8802 - val_loss: 0.9473 - val_accuracy: 0.8093\n",
      "Epoch 48/150\n",
      "51/51 [==============================] - 98s 2s/step - loss: 0.3923 - accuracy: 0.8657 - val_loss: 0.9236 - val_accuracy: 0.7991\n",
      "Epoch 49/150\n",
      "51/51 [==============================] - 98s 2s/step - loss: 0.3877 - accuracy: 0.8664 - val_loss: 0.9482 - val_accuracy: 0.7954\n",
      "Epoch 50/150\n",
      "51/51 [==============================] - 98s 2s/step - loss: 0.3331 - accuracy: 0.8886 - val_loss: 0.9715 - val_accuracy: 0.8120\n",
      "Epoch 51/150\n",
      "51/51 [==============================] - 98s 2s/step - loss: 0.3293 - accuracy: 0.8972 - val_loss: 0.9646 - val_accuracy: 0.8176\n",
      "Epoch 52/150\n",
      "51/51 [==============================] - 98s 2s/step - loss: 0.3315 - accuracy: 0.8914 - val_loss: 0.9222 - val_accuracy: 0.8139\n",
      "Epoch 53/150\n",
      "51/51 [==============================] - 98s 2s/step - loss: 0.2980 - accuracy: 0.8994 - val_loss: 0.9215 - val_accuracy: 0.8259\n",
      "Epoch 54/150\n",
      "51/51 [==============================] - 98s 2s/step - loss: 0.2648 - accuracy: 0.9090 - val_loss: 0.9367 - val_accuracy: 0.8194\n",
      "Epoch 55/150\n",
      "51/51 [==============================] - 98s 2s/step - loss: 0.3249 - accuracy: 0.8988 - val_loss: 1.0144 - val_accuracy: 0.8093\n",
      "Epoch 56/150\n",
      "51/51 [==============================] - 98s 2s/step - loss: 0.3277 - accuracy: 0.8926 - val_loss: 1.0949 - val_accuracy: 0.7861\n",
      "Epoch 57/150\n",
      "51/51 [==============================] - 98s 2s/step - loss: 0.3378 - accuracy: 0.8926 - val_loss: 1.0814 - val_accuracy: 0.7917\n",
      "Epoch 58/150\n",
      "51/51 [==============================] - 98s 2s/step - loss: 0.3563 - accuracy: 0.8846 - val_loss: 0.9674 - val_accuracy: 0.8028\n",
      "Epoch 59/150\n",
      "51/51 [==============================] - 98s 2s/step - loss: 0.3057 - accuracy: 0.9006 - val_loss: 1.0073 - val_accuracy: 0.7981\n",
      "Epoch 60/150\n",
      "51/51 [==============================] - 98s 2s/step - loss: 0.2767 - accuracy: 0.9114 - val_loss: 1.0185 - val_accuracy: 0.8065\n",
      "Epoch 61/150\n",
      "51/51 [==============================] - 98s 2s/step - loss: 0.2779 - accuracy: 0.9111 - val_loss: 1.1088 - val_accuracy: 0.7954\n",
      "Epoch 62/150\n",
      "51/51 [==============================] - 98s 2s/step - loss: 0.3162 - accuracy: 0.9114 - val_loss: 0.9855 - val_accuracy: 0.8093\n",
      "Epoch 63/150\n",
      "51/51 [==============================] - 98s 2s/step - loss: 0.3078 - accuracy: 0.9049 - val_loss: 0.8855 - val_accuracy: 0.8102\n",
      "Epoch 64/150\n",
      "51/51 [==============================] - 98s 2s/step - loss: 0.2257 - accuracy: 0.9265 - val_loss: 0.8422 - val_accuracy: 0.8269\n",
      "Epoch 65/150\n",
      "51/51 [==============================] - 98s 2s/step - loss: 0.2272 - accuracy: 0.9231 - val_loss: 0.8460 - val_accuracy: 0.8370\n",
      "Epoch 66/150\n",
      "51/51 [==============================] - 98s 2s/step - loss: 0.2201 - accuracy: 0.9293 - val_loss: 0.9466 - val_accuracy: 0.8222\n",
      "Epoch 67/150\n",
      "51/51 [==============================] - 99s 2s/step - loss: 0.2141 - accuracy: 0.9318 - val_loss: 0.9412 - val_accuracy: 0.8157\n",
      "Epoch 68/150\n",
      "51/51 [==============================] - 98s 2s/step - loss: 0.1989 - accuracy: 0.9346 - val_loss: 1.1515 - val_accuracy: 0.8222\n",
      "Epoch 69/150\n",
      "51/51 [==============================] - 98s 2s/step - loss: 0.2195 - accuracy: 0.9340 - val_loss: 1.0492 - val_accuracy: 0.8250\n",
      "Epoch 70/150\n",
      "51/51 [==============================] - 98s 2s/step - loss: 0.2362 - accuracy: 0.9256 - val_loss: 1.2775 - val_accuracy: 0.8019\n",
      "Epoch 71/150\n",
      "51/51 [==============================] - 98s 2s/step - loss: 0.2490 - accuracy: 0.9265 - val_loss: 1.0585 - val_accuracy: 0.8148\n",
      "Epoch 72/150\n",
      "51/51 [==============================] - 98s 2s/step - loss: 0.1902 - accuracy: 0.9401 - val_loss: 0.9384 - val_accuracy: 0.8315\n",
      "Epoch 73/150\n",
      "51/51 [==============================] - 98s 2s/step - loss: 0.1780 - accuracy: 0.9380 - val_loss: 1.0902 - val_accuracy: 0.8250\n",
      "Epoch 74/150\n",
      "51/51 [==============================] - 98s 2s/step - loss: 0.2116 - accuracy: 0.9392 - val_loss: 1.1334 - val_accuracy: 0.8148\n",
      "Epoch 75/150\n",
      "51/51 [==============================] - 99s 2s/step - loss: 0.1627 - accuracy: 0.9460 - val_loss: 1.1185 - val_accuracy: 0.8278\n",
      "Epoch 76/150\n",
      "51/51 [==============================] - 98s 2s/step - loss: 0.1510 - accuracy: 0.9485 - val_loss: 0.9520 - val_accuracy: 0.8481\n",
      "Epoch 77/150\n",
      "51/51 [==============================] - 98s 2s/step - loss: 0.1634 - accuracy: 0.9438 - val_loss: 1.0477 - val_accuracy: 0.8435\n",
      "Epoch 78/150\n",
      "51/51 [==============================] - 98s 2s/step - loss: 0.1584 - accuracy: 0.9472 - val_loss: 1.0215 - val_accuracy: 0.8454\n",
      "Epoch 79/150\n",
      "51/51 [==============================] - 98s 2s/step - loss: 0.1520 - accuracy: 0.9503 - val_loss: 1.1119 - val_accuracy: 0.8259\n",
      "Epoch 80/150\n",
      "51/51 [==============================] - 98s 2s/step - loss: 0.1755 - accuracy: 0.9466 - val_loss: 1.3124 - val_accuracy: 0.8120\n",
      "Epoch 81/150\n",
      "51/51 [==============================] - 98s 2s/step - loss: 0.1927 - accuracy: 0.9451 - val_loss: 1.2389 - val_accuracy: 0.7917\n",
      "Epoch 82/150\n",
      "51/51 [==============================] - 98s 2s/step - loss: 0.2191 - accuracy: 0.9367 - val_loss: 1.2497 - val_accuracy: 0.8139\n",
      "Epoch 83/150\n",
      "51/51 [==============================] - 98s 2s/step - loss: 0.2304 - accuracy: 0.9358 - val_loss: 1.1299 - val_accuracy: 0.8167\n",
      "Epoch 84/150\n",
      "51/51 [==============================] - 98s 2s/step - loss: 0.1906 - accuracy: 0.9426 - val_loss: 1.0478 - val_accuracy: 0.8417\n",
      "Epoch 85/150\n",
      "51/51 [==============================] - 98s 2s/step - loss: 0.1713 - accuracy: 0.9506 - val_loss: 1.1286 - val_accuracy: 0.8222\n",
      "Epoch 86/150\n",
      "51/51 [==============================] - 98s 2s/step - loss: 0.1586 - accuracy: 0.9522 - val_loss: 1.1183 - val_accuracy: 0.8204\n",
      "Epoch 87/150\n",
      "51/51 [==============================] - 98s 2s/step - loss: 0.1800 - accuracy: 0.9420 - val_loss: 1.0451 - val_accuracy: 0.8287\n",
      "Epoch 88/150\n",
      "51/51 [==============================] - 98s 2s/step - loss: 0.1452 - accuracy: 0.9593 - val_loss: 1.1733 - val_accuracy: 0.8204\n",
      "Epoch 89/150\n",
      "51/51 [==============================] - 100s 2s/step - loss: 0.1878 - accuracy: 0.9494 - val_loss: 1.0912 - val_accuracy: 0.8324\n",
      "Epoch 90/150\n",
      "51/51 [==============================] - 99s 2s/step - loss: 0.1622 - accuracy: 0.9481 - val_loss: 1.1512 - val_accuracy: 0.8102\n",
      "Epoch 91/150\n",
      "51/51 [==============================] - 99s 2s/step - loss: 0.1952 - accuracy: 0.9460 - val_loss: 1.0953 - val_accuracy: 0.8269\n",
      "Epoch 92/150\n",
      "51/51 [==============================] - 98s 2s/step - loss: 0.1505 - accuracy: 0.9469 - val_loss: 1.0120 - val_accuracy: 0.8380\n",
      "Epoch 93/150\n",
      "51/51 [==============================] - 98s 2s/step - loss: 0.1390 - accuracy: 0.9586 - val_loss: 1.0941 - val_accuracy: 0.8269\n",
      "Epoch 94/150\n",
      "51/51 [==============================] - 98s 2s/step - loss: 0.1315 - accuracy: 0.9537 - val_loss: 1.0486 - val_accuracy: 0.8361\n",
      "Epoch 95/150\n",
      "51/51 [==============================] - 98s 2s/step - loss: 0.1355 - accuracy: 0.9608 - val_loss: 1.0098 - val_accuracy: 0.8463\n",
      "Epoch 96/150\n",
      "51/51 [==============================] - 98s 2s/step - loss: 0.1202 - accuracy: 0.9648 - val_loss: 1.0751 - val_accuracy: 0.8370\n",
      "Epoch 97/150\n",
      "51/51 [==============================] - 98s 2s/step - loss: 0.1189 - accuracy: 0.9586 - val_loss: 1.1073 - val_accuracy: 0.8454\n",
      "Epoch 98/150\n",
      "51/51 [==============================] - 98s 2s/step - loss: 0.1050 - accuracy: 0.9654 - val_loss: 1.1256 - val_accuracy: 0.8454\n",
      "Epoch 99/150\n",
      "51/51 [==============================] - 98s 2s/step - loss: 0.1118 - accuracy: 0.9620 - val_loss: 1.0793 - val_accuracy: 0.8546\n",
      "Epoch 100/150\n",
      "51/51 [==============================] - 98s 2s/step - loss: 0.0954 - accuracy: 0.9710 - val_loss: 1.0664 - val_accuracy: 0.8556\n",
      "Epoch 101/150\n",
      "51/51 [==============================] - 98s 2s/step - loss: 0.1147 - accuracy: 0.9664 - val_loss: 1.0243 - val_accuracy: 0.8481\n",
      "Epoch 102/150\n",
      "51/51 [==============================] - 98s 2s/step - loss: 0.1104 - accuracy: 0.9676 - val_loss: 1.0166 - val_accuracy: 0.8491\n",
      "Epoch 103/150\n",
      "51/51 [==============================] - 98s 2s/step - loss: 0.1402 - accuracy: 0.9608 - val_loss: 1.4285 - val_accuracy: 0.8130\n",
      "Epoch 104/150\n",
      "51/51 [==============================] - 98s 2s/step - loss: 0.2422 - accuracy: 0.9472 - val_loss: 1.4055 - val_accuracy: 0.7824\n",
      "Epoch 105/150\n",
      "51/51 [==============================] - 98s 2s/step - loss: 0.2054 - accuracy: 0.9485 - val_loss: 1.1014 - val_accuracy: 0.8269\n",
      "Epoch 106/150\n",
      "51/51 [==============================] - 98s 2s/step - loss: 0.1190 - accuracy: 0.9630 - val_loss: 1.0635 - val_accuracy: 0.8306\n",
      "Epoch 107/150\n",
      "51/51 [==============================] - 98s 2s/step - loss: 0.1524 - accuracy: 0.9559 - val_loss: 1.1263 - val_accuracy: 0.8231\n",
      "Epoch 108/150\n",
      "51/51 [==============================] - 98s 2s/step - loss: 0.1103 - accuracy: 0.9670 - val_loss: 1.1277 - val_accuracy: 0.8324\n",
      "Epoch 109/150\n",
      "51/51 [==============================] - 98s 2s/step - loss: 0.1219 - accuracy: 0.9642 - val_loss: 1.1281 - val_accuracy: 0.8306\n",
      "Epoch 110/150\n",
      "51/51 [==============================] - 99s 2s/step - loss: 0.1110 - accuracy: 0.9685 - val_loss: 1.0647 - val_accuracy: 0.8306\n",
      "Epoch 111/150\n",
      "51/51 [==============================] - 99s 2s/step - loss: 0.1209 - accuracy: 0.9667 - val_loss: 1.2398 - val_accuracy: 0.8213\n",
      "Epoch 112/150\n",
      "51/51 [==============================] - 99s 2s/step - loss: 0.1026 - accuracy: 0.9710 - val_loss: 1.2666 - val_accuracy: 0.8306\n",
      "Epoch 113/150\n",
      "51/51 [==============================] - 99s 2s/step - loss: 0.1060 - accuracy: 0.9682 - val_loss: 1.2898 - val_accuracy: 0.8343\n",
      "Epoch 114/150\n",
      "51/51 [==============================] - 99s 2s/step - loss: 0.1134 - accuracy: 0.9645 - val_loss: 1.4065 - val_accuracy: 0.8065\n",
      "Epoch 115/150\n",
      "51/51 [==============================] - 99s 2s/step - loss: 0.2209 - accuracy: 0.9497 - val_loss: 1.3202 - val_accuracy: 0.8111\n",
      "Epoch 116/150\n",
      "51/51 [==============================] - 99s 2s/step - loss: 0.1505 - accuracy: 0.9605 - val_loss: 1.2447 - val_accuracy: 0.8278\n",
      "Epoch 117/150\n",
      "51/51 [==============================] - 99s 2s/step - loss: 0.1400 - accuracy: 0.9593 - val_loss: 1.1055 - val_accuracy: 0.8398\n",
      "Epoch 118/150\n",
      "51/51 [==============================] - 99s 2s/step - loss: 0.1044 - accuracy: 0.9670 - val_loss: 1.2232 - val_accuracy: 0.8398\n",
      "Epoch 119/150\n",
      "51/51 [==============================] - 99s 2s/step - loss: 0.1115 - accuracy: 0.9667 - val_loss: 1.2028 - val_accuracy: 0.8389\n",
      "Epoch 120/150\n",
      "51/51 [==============================] - 99s 2s/step - loss: 0.0959 - accuracy: 0.9673 - val_loss: 1.1061 - val_accuracy: 0.8454\n",
      "Epoch 121/150\n",
      "51/51 [==============================] - 99s 2s/step - loss: 0.0843 - accuracy: 0.9713 - val_loss: 1.2228 - val_accuracy: 0.8389\n",
      "Epoch 122/150\n",
      "51/51 [==============================] - 98s 2s/step - loss: 0.1181 - accuracy: 0.9698 - val_loss: 1.2383 - val_accuracy: 0.8259\n",
      "Epoch 123/150\n",
      "51/51 [==============================] - 98s 2s/step - loss: 0.0937 - accuracy: 0.9701 - val_loss: 1.1931 - val_accuracy: 0.8361\n",
      "Epoch 124/150\n",
      "51/51 [==============================] - 98s 2s/step - loss: 0.1079 - accuracy: 0.9685 - val_loss: 1.2296 - val_accuracy: 0.8370\n",
      "Epoch 125/150\n",
      "51/51 [==============================] - 98s 2s/step - loss: 0.0889 - accuracy: 0.9744 - val_loss: 1.3421 - val_accuracy: 0.8213\n",
      "Epoch 126/150\n",
      "51/51 [==============================] - 99s 2s/step - loss: 0.0970 - accuracy: 0.9698 - val_loss: 1.2406 - val_accuracy: 0.8389\n",
      "Epoch 127/150\n",
      "51/51 [==============================] - 99s 2s/step - loss: 0.0804 - accuracy: 0.9744 - val_loss: 1.2545 - val_accuracy: 0.8259\n",
      "Epoch 128/150\n",
      "51/51 [==============================] - 98s 2s/step - loss: 0.0794 - accuracy: 0.9765 - val_loss: 1.2710 - val_accuracy: 0.8352\n",
      "Epoch 129/150\n",
      "51/51 [==============================] - 98s 2s/step - loss: 0.1185 - accuracy: 0.9688 - val_loss: 1.3406 - val_accuracy: 0.8287\n",
      "Epoch 130/150\n",
      "51/51 [==============================] - 98s 2s/step - loss: 0.1517 - accuracy: 0.9660 - val_loss: 1.2639 - val_accuracy: 0.8250\n",
      "Epoch 131/150\n",
      "51/51 [==============================] - 98s 2s/step - loss: 0.1277 - accuracy: 0.9614 - val_loss: 1.2391 - val_accuracy: 0.8324\n",
      "Epoch 132/150\n",
      "51/51 [==============================] - 98s 2s/step - loss: 0.1009 - accuracy: 0.9728 - val_loss: 1.2390 - val_accuracy: 0.8306\n",
      "Epoch 133/150\n",
      "51/51 [==============================] - 98s 2s/step - loss: 0.0956 - accuracy: 0.9710 - val_loss: 1.1915 - val_accuracy: 0.8361\n",
      "Epoch 134/150\n",
      "51/51 [==============================] - 98s 2s/step - loss: 0.0775 - accuracy: 0.9756 - val_loss: 1.2252 - val_accuracy: 0.8435\n",
      "Epoch 135/150\n",
      "51/51 [==============================] - 98s 2s/step - loss: 0.1087 - accuracy: 0.9722 - val_loss: 1.3303 - val_accuracy: 0.8241\n",
      "Epoch 136/150\n",
      "51/51 [==============================] - 98s 2s/step - loss: 0.1313 - accuracy: 0.9660 - val_loss: 1.3518 - val_accuracy: 0.8343\n",
      "Epoch 137/150\n",
      "51/51 [==============================] - 98s 2s/step - loss: 0.1601 - accuracy: 0.9688 - val_loss: 1.6231 - val_accuracy: 0.7991\n",
      "Epoch 138/150\n",
      "51/51 [==============================] - 98s 2s/step - loss: 0.1879 - accuracy: 0.9531 - val_loss: 1.3148 - val_accuracy: 0.8204\n",
      "Epoch 139/150\n",
      "51/51 [==============================] - 98s 2s/step - loss: 0.1093 - accuracy: 0.9710 - val_loss: 1.2978 - val_accuracy: 0.8250\n",
      "Epoch 140/150\n",
      "51/51 [==============================] - 98s 2s/step - loss: 0.0971 - accuracy: 0.9716 - val_loss: 1.2628 - val_accuracy: 0.8306\n",
      "Epoch 141/150\n",
      "51/51 [==============================] - 98s 2s/step - loss: 0.0909 - accuracy: 0.9701 - val_loss: 1.3921 - val_accuracy: 0.8250\n",
      "Epoch 142/150\n",
      "51/51 [==============================] - 98s 2s/step - loss: 0.0923 - accuracy: 0.9735 - val_loss: 1.3303 - val_accuracy: 0.8296\n",
      "Epoch 143/150\n",
      "51/51 [==============================] - 98s 2s/step - loss: 0.0893 - accuracy: 0.9725 - val_loss: 1.3916 - val_accuracy: 0.8148\n",
      "Epoch 144/150\n",
      "51/51 [==============================] - 98s 2s/step - loss: 0.1182 - accuracy: 0.9691 - val_loss: 1.3294 - val_accuracy: 0.8324\n",
      "Epoch 145/150\n",
      "51/51 [==============================] - 98s 2s/step - loss: 0.0761 - accuracy: 0.9741 - val_loss: 1.3125 - val_accuracy: 0.8389\n",
      "Epoch 146/150\n",
      "51/51 [==============================] - 98s 2s/step - loss: 0.0693 - accuracy: 0.9778 - val_loss: 1.3036 - val_accuracy: 0.8361\n",
      "Epoch 147/150\n",
      "51/51 [==============================] - 98s 2s/step - loss: 0.0770 - accuracy: 0.9744 - val_loss: 1.3687 - val_accuracy: 0.8259\n",
      "Epoch 148/150\n",
      "51/51 [==============================] - 98s 2s/step - loss: 0.0684 - accuracy: 0.9784 - val_loss: 1.3237 - val_accuracy: 0.8315\n",
      "Epoch 149/150\n",
      "51/51 [==============================] - 98s 2s/step - loss: 0.0784 - accuracy: 0.9769 - val_loss: 1.3007 - val_accuracy: 0.8324\n",
      "Epoch 150/150\n",
      "51/51 [==============================] - 98s 2s/step - loss: 0.0754 - accuracy: 0.9769 - val_loss: 1.3710 - val_accuracy: 0.8259\n"
     ]
    }
   ],
   "source": [
    "#CNN\n",
    "history = model.fit(x_traincnn, y_train, batch_size=64, epochs=150, validation_data=(x_testcnn, y_test))"
   ]
  },
  {
   "cell_type": "code",
   "execution_count": 18,
   "id": "57bda017-cc7e-4f94-8580-bc5b2be649d3",
   "metadata": {
    "tags": []
   },
   "outputs": [
    {
     "name": "stdout",
     "output_type": "stream",
     "text": [
      "34/34 [==============================] - 1s 34ms/step - loss: 1.3710 - accuracy: 0.8259\n",
      "Accuracy of our model on test data :  82.59259462356567 %\n"
     ]
    }
   ],
   "source": [
    "#CNN\n",
    "print(\"Accuracy of our model on test data : \" , \n",
    "      model.evaluate(x_testcnn,y_test)[1]*100 , \"%\")"
   ]
  },
  {
   "cell_type": "code",
   "execution_count": 19,
   "id": "1659b186-d8e3-4947-b272-704bcdcbea9e",
   "metadata": {
    "tags": []
   },
   "outputs": [
    {
     "name": "stdout",
     "output_type": "stream",
     "text": [
      "34/34 [==============================] - 2s 33ms/step\n"
     ]
    },
    {
     "data": {
      "text/html": [
       "<div>\n",
       "<style scoped>\n",
       "    .dataframe tbody tr th:only-of-type {\n",
       "        vertical-align: middle;\n",
       "    }\n",
       "\n",
       "    .dataframe tbody tr th {\n",
       "        vertical-align: top;\n",
       "    }\n",
       "\n",
       "    .dataframe thead th {\n",
       "        text-align: right;\n",
       "    }\n",
       "</style>\n",
       "<table border=\"1\" class=\"dataframe\">\n",
       "  <thead>\n",
       "    <tr style=\"text-align: right;\">\n",
       "      <th></th>\n",
       "      <th>Predicted Labels</th>\n",
       "      <th>Actual Labels</th>\n",
       "    </tr>\n",
       "  </thead>\n",
       "  <tbody>\n",
       "    <tr>\n",
       "      <th>0</th>\n",
       "      <td>female_fear</td>\n",
       "      <td>female_fear</td>\n",
       "    </tr>\n",
       "    <tr>\n",
       "      <th>1</th>\n",
       "      <td>male_angry</td>\n",
       "      <td>male_angry</td>\n",
       "    </tr>\n",
       "    <tr>\n",
       "      <th>2</th>\n",
       "      <td>female_fear</td>\n",
       "      <td>female_fear</td>\n",
       "    </tr>\n",
       "    <tr>\n",
       "      <th>3</th>\n",
       "      <td>female_neutral</td>\n",
       "      <td>female_neutral</td>\n",
       "    </tr>\n",
       "    <tr>\n",
       "      <th>4</th>\n",
       "      <td>female_surprise</td>\n",
       "      <td>female_angry</td>\n",
       "    </tr>\n",
       "    <tr>\n",
       "      <th>5</th>\n",
       "      <td>female_surprise</td>\n",
       "      <td>female_surprise</td>\n",
       "    </tr>\n",
       "    <tr>\n",
       "      <th>6</th>\n",
       "      <td>male_sad</td>\n",
       "      <td>male_fear</td>\n",
       "    </tr>\n",
       "    <tr>\n",
       "      <th>7</th>\n",
       "      <td>male_happy</td>\n",
       "      <td>male_happy</td>\n",
       "    </tr>\n",
       "    <tr>\n",
       "      <th>8</th>\n",
       "      <td>female_fear</td>\n",
       "      <td>female_fear</td>\n",
       "    </tr>\n",
       "    <tr>\n",
       "      <th>9</th>\n",
       "      <td>male_sad</td>\n",
       "      <td>male_sad</td>\n",
       "    </tr>\n",
       "  </tbody>\n",
       "</table>\n",
       "</div>"
      ],
      "text/plain": [
       "  Predicted Labels    Actual Labels\n",
       "0      female_fear      female_fear\n",
       "1       male_angry       male_angry\n",
       "2      female_fear      female_fear\n",
       "3   female_neutral   female_neutral\n",
       "4  female_surprise     female_angry\n",
       "5  female_surprise  female_surprise\n",
       "6         male_sad        male_fear\n",
       "7       male_happy       male_happy\n",
       "8      female_fear      female_fear\n",
       "9         male_sad         male_sad"
      ]
     },
     "execution_count": 19,
     "metadata": {},
     "output_type": "execute_result"
    }
   ],
   "source": [
    "#CNN\n",
    "pred_test = model.predict(x_testcnn)\n",
    "y_pred = encoder.inverse_transform(pred_test)\n",
    "\n",
    "y_test = encoder.inverse_transform(y_test)\n",
    "\n",
    "df = pd.DataFrame(columns=['Predicted Labels', 'Actual Labels'])\n",
    "df['Predicted Labels'] = y_pred.flatten()\n",
    "df['Actual Labels'] = y_test.flatten()\n",
    "\n",
    "df.head(10)"
   ]
  },
  {
   "cell_type": "code",
   "execution_count": 20,
   "id": "8dbeaf7c-0279-4369-9a63-f6fbc685e59e",
   "metadata": {
    "tags": []
   },
   "outputs": [
    {
     "name": "stdout",
     "output_type": "stream",
     "text": [
      "                 precision    recall  f1-score   support\n",
      "\n",
      "   female_angry       0.88      0.82      0.85        68\n",
      " female_disgust       0.82      0.90      0.86        61\n",
      "    female_fear       0.86      0.86      0.86        79\n",
      "   female_happy       0.82      0.72      0.77        75\n",
      " female_neutral       0.82      0.97      0.89       120\n",
      "     female_sad       0.87      0.69      0.77        80\n",
      "female_surprise       0.87      0.88      0.87        66\n",
      "     male_angry       0.92      0.89      0.90        64\n",
      "   male_disgust       0.76      0.70      0.73        74\n",
      "      male_fear       0.72      0.85      0.78        72\n",
      "     male_happy       0.76      0.82      0.79        66\n",
      "   male_neutral       0.86      0.88      0.87       111\n",
      "       male_sad       0.78      0.75      0.76        71\n",
      "  male_surprise       0.86      0.75      0.80        73\n",
      "\n",
      "       accuracy                           0.83      1080\n",
      "      macro avg       0.83      0.82      0.82      1080\n",
      "   weighted avg       0.83      0.83      0.82      1080\n",
      "\n"
     ]
    }
   ],
   "source": [
    "print(classification_report(y_test, y_pred))"
   ]
  },
  {
   "cell_type": "code",
   "execution_count": 21,
   "id": "d3ced990-4234-451f-ae7f-adb2736ebf22",
   "metadata": {
    "tags": []
   },
   "outputs": [
    {
     "name": "stdout",
     "output_type": "stream",
     "text": [
      "Saved trained model at ./saved_models\\model3.h5 \n"
     ]
    }
   ],
   "source": [
    "model_name = 'model3.h5'\n",
    "save_dir = os.path.join('./', 'saved_models')\n",
    "# Save model and weights\n",
    "if not os.path.isdir(save_dir):\n",
    "    os.makedirs(save_dir)\n",
    "model_path = os.path.join(save_dir, model_name)\n",
    "model.save(model_path)\n",
    "print('Saved trained model at %s ' % model_path)"
   ]
  },
  {
   "cell_type": "code",
   "execution_count": 15,
   "id": "410f8b68-4762-4b2e-b5fe-5dc8c7dfeced",
   "metadata": {
    "tags": []
   },
   "outputs": [
    {
     "ename": "NameError",
     "evalue": "name 'model' is not defined",
     "output_type": "error",
     "traceback": [
      "\u001b[1;31m---------------------------------------------------------------------------\u001b[0m",
      "\u001b[1;31mNameError\u001b[0m                                 Traceback (most recent call last)",
      "Cell \u001b[1;32mIn[15], line 2\u001b[0m\n\u001b[0;32m      1\u001b[0m \u001b[38;5;28;01mimport\u001b[39;00m \u001b[38;5;21;01mjson\u001b[39;00m\n\u001b[1;32m----> 2\u001b[0m model_json \u001b[38;5;241m=\u001b[39m \u001b[43mmodel\u001b[49m\u001b[38;5;241m.\u001b[39mto_json()\n\u001b[0;32m      3\u001b[0m \u001b[38;5;28;01mwith\u001b[39;00m \u001b[38;5;28mopen\u001b[39m(\u001b[38;5;124m\"\u001b[39m\u001b[38;5;124mmodel.json\u001b[39m\u001b[38;5;124m\"\u001b[39m, \u001b[38;5;124m\"\u001b[39m\u001b[38;5;124mw\u001b[39m\u001b[38;5;124m\"\u001b[39m) \u001b[38;5;28;01mas\u001b[39;00m json_file:\n\u001b[0;32m      4\u001b[0m     json_file\u001b[38;5;241m.\u001b[39mwrite(model_json)\n",
      "\u001b[1;31mNameError\u001b[0m: name 'model' is not defined"
     ]
    }
   ],
   "source": [
    "import json\n",
    "model_json = model.to_json()\n",
    "with open(\"model.json\", \"w\") as json_file:\n",
    "    json_file.write(model_json)"
   ]
  },
  {
   "cell_type": "code",
   "execution_count": 17,
   "id": "b38db640-cbd8-4fe4-abf6-ecd0d6fb7953",
   "metadata": {
    "tags": []
   },
   "outputs": [
    {
     "name": "stdout",
     "output_type": "stream",
     "text": [
      "Loaded model from disk\n"
     ]
    }
   ],
   "source": [
    "from keras.models import model_from_json\n",
    "json_file = open('model.json', 'r')\n",
    "loaded_model_json = json_file.read()\n",
    "json_file.close()\n",
    "loaded_model = model_from_json(loaded_model_json)\n",
    "# load weights into new model\n",
    "loaded_model.load_weights(\"saved_models/model3.h5\")\n",
    "print(\"Loaded model from disk\")"
   ]
  },
  {
   "cell_type": "code",
   "execution_count": 18,
   "id": "0b3318e1-f8d9-417a-80b9-4b1296077c4f",
   "metadata": {
    "tags": []
   },
   "outputs": [],
   "source": [
    "#livedf= pd.DataFrame(columns=['feature'])\n",
    "# X, sample_rate = librosa.load('RAVDESS/Dataset/Actor_01/03-01-02-02-02-01-01.wav',duration=2.5,sr=22050*2,offset=0.5)\n",
    "X,Y=[],[]\n",
    "path=\"RAVDESS/Dataset/Actor_19/03-01-03-02-01-02-19.wav\"\n",
    "# path=\"today.wav\"\n",
    "# data, sample_rate = librosa.load(path)\n",
    "data, sample_rate = librosa.load(path, duration=2.5,sr=22050*2, offset=0.6)\n",
    "# normal data\n",
    "res1 = feat_ext(data)\n",
    "result = np.array(res1)\n",
    "#data with noise\n",
    "noise_data = noise(data)\n",
    "res2 = feat_ext(noise_data)\n",
    "result = np.vstack((result, res2))\n",
    "#data with stretch and pitch\n",
    "new_data = stretch(data)\n",
    "data_stretch_pitch = pitch(new_data, sample_rate)\n",
    "res3 = feat_ext(data_stretch_pitch)\n",
    "result = np.vstack((result, res3))\n",
    "for ele in result:\n",
    "    X.append(ele)\n",
    "    Y.append(emotion)\n",
    "sample_rate = np.array(sample_rate)\n",
    "mfcc = np.mean(librosa.feature.mfcc(y=data_stretch_pitch, sr=sample_rate).T, axis=0)\n",
    "featurelive = mfcc\n",
    "livedf2 = featurelive"
   ]
  },
  {
   "cell_type": "code",
   "execution_count": 19,
   "id": "bbef6179-62b3-4f68-91f5-8c51f1c417b4",
   "metadata": {},
   "outputs": [
    {
     "data": {
      "text/html": [
       "<div>\n",
       "<style scoped>\n",
       "    .dataframe tbody tr th:only-of-type {\n",
       "        vertical-align: middle;\n",
       "    }\n",
       "\n",
       "    .dataframe tbody tr th {\n",
       "        vertical-align: top;\n",
       "    }\n",
       "\n",
       "    .dataframe thead tr th {\n",
       "        text-align: left;\n",
       "    }\n",
       "</style>\n",
       "<table border=\"1\" class=\"dataframe\">\n",
       "  <thead>\n",
       "    <tr>\n",
       "      <th></th>\n",
       "      <th>0</th>\n",
       "      <th>1</th>\n",
       "      <th>2</th>\n",
       "      <th>3</th>\n",
       "      <th>4</th>\n",
       "      <th>5</th>\n",
       "      <th>6</th>\n",
       "      <th>7</th>\n",
       "      <th>8</th>\n",
       "      <th>9</th>\n",
       "      <th>10</th>\n",
       "      <th>11</th>\n",
       "      <th>12</th>\n",
       "      <th>13</th>\n",
       "      <th>14</th>\n",
       "      <th>15</th>\n",
       "      <th>16</th>\n",
       "      <th>17</th>\n",
       "      <th>18</th>\n",
       "      <th>19</th>\n",
       "    </tr>\n",
       "    <tr>\n",
       "      <th></th>\n",
       "      <th>0</th>\n",
       "      <th>0</th>\n",
       "      <th>0</th>\n",
       "      <th>0</th>\n",
       "      <th>0</th>\n",
       "      <th>0</th>\n",
       "      <th>0</th>\n",
       "      <th>0</th>\n",
       "      <th>0</th>\n",
       "      <th>0</th>\n",
       "      <th>0</th>\n",
       "      <th>0</th>\n",
       "      <th>0</th>\n",
       "      <th>0</th>\n",
       "      <th>0</th>\n",
       "      <th>0</th>\n",
       "      <th>0</th>\n",
       "      <th>0</th>\n",
       "      <th>0</th>\n",
       "      <th>0</th>\n",
       "    </tr>\n",
       "  </thead>\n",
       "  <tbody>\n",
       "    <tr>\n",
       "      <th>0</th>\n",
       "      <td>-574.453918</td>\n",
       "      <td>90.764946</td>\n",
       "      <td>-22.942814</td>\n",
       "      <td>8.266184</td>\n",
       "      <td>-10.9204</td>\n",
       "      <td>8.592998</td>\n",
       "      <td>-7.048609</td>\n",
       "      <td>-4.984391</td>\n",
       "      <td>-25.811499</td>\n",
       "      <td>-8.443547</td>\n",
       "      <td>-12.745316</td>\n",
       "      <td>-2.639219</td>\n",
       "      <td>1.178126</td>\n",
       "      <td>-11.769129</td>\n",
       "      <td>-8.46141</td>\n",
       "      <td>-1.8621</td>\n",
       "      <td>-8.877709</td>\n",
       "      <td>0.573254</td>\n",
       "      <td>-1.561605</td>\n",
       "      <td>-4.329304</td>\n",
       "    </tr>\n",
       "  </tbody>\n",
       "</table>\n",
       "</div>"
      ],
      "text/plain": [
       "           0          1          2         3        4         5         6   \\\n",
       "            0          0          0         0        0         0         0   \n",
       "0 -574.453918  90.764946 -22.942814  8.266184 -10.9204  8.592998 -7.048609   \n",
       "\n",
       "         7          8         9          10        11        12         13  \\\n",
       "          0          0         0          0         0         0          0   \n",
       "0 -4.984391 -25.811499 -8.443547 -12.745316 -2.639219  1.178126 -11.769129   \n",
       "\n",
       "        14      15        16        17        18        19  \n",
       "         0       0         0         0         0         0  \n",
       "0 -8.46141 -1.8621 -8.877709  0.573254 -1.561605 -4.329304  "
      ]
     },
     "execution_count": 19,
     "metadata": {},
     "output_type": "execute_result"
    }
   ],
   "source": [
    "livedf2= pd.DataFrame(data=livedf2)\n",
    "livedf2 = livedf2.stack().to_frame().T\n",
    "livedf2"
   ]
  },
  {
   "cell_type": "code",
   "execution_count": 20,
   "id": "f7843cfb-6c70-4083-ac68-c57f4a19d58d",
   "metadata": {},
   "outputs": [
    {
     "data": {
      "text/plain": [
       "array([[[-5.7445392e+02],\n",
       "        [ 9.0764946e+01],\n",
       "        [-2.2942814e+01],\n",
       "        [ 8.2661839e+00],\n",
       "        [-1.0920400e+01],\n",
       "        [ 8.5929976e+00],\n",
       "        [-7.0486093e+00],\n",
       "        [-4.9843907e+00],\n",
       "        [-2.5811499e+01],\n",
       "        [-8.4435472e+00],\n",
       "        [-1.2745316e+01],\n",
       "        [-2.6392190e+00],\n",
       "        [ 1.1781260e+00],\n",
       "        [-1.1769129e+01],\n",
       "        [-8.4614096e+00],\n",
       "        [-1.8620998e+00],\n",
       "        [-8.8777094e+00],\n",
       "        [ 5.7325351e-01],\n",
       "        [-1.5616047e+00],\n",
       "        [-4.3293042e+00]]], dtype=float32)"
      ]
     },
     "execution_count": 20,
     "metadata": {},
     "output_type": "execute_result"
    }
   ],
   "source": [
    "twodim= np.expand_dims(livedf2, axis=2)\n",
    "twodim"
   ]
  },
  {
   "cell_type": "code",
   "execution_count": 21,
   "id": "a13c3686-a58f-42aa-b2c0-6134d50fe873",
   "metadata": {},
   "outputs": [
    {
     "name": "stdout",
     "output_type": "stream",
     "text": [
      "1/1 [==============================] - 3s 3s/step\n"
     ]
    }
   ],
   "source": [
    "livepreds = loaded_model.predict(twodim, \n",
    "                         batch_size=32, \n",
    "                         verbose=1)"
   ]
  },
  {
   "cell_type": "code",
   "execution_count": 22,
   "id": "c7008774-8c28-4d2c-9a48-3a0fcc64a5b4",
   "metadata": {},
   "outputs": [
    {
     "data": {
      "text/plain": [
       "array([[9.6242211e-04, 2.6862330e-03, 6.5985769e-01, 2.5770647e-02,\n",
       "        4.9218708e-03, 4.2449296e-04, 1.1171002e-02, 2.9137545e-05,\n",
       "        3.6352358e-05, 8.8604327e-05, 2.2834145e-05, 2.0379850e-01,\n",
       "        9.0152293e-02, 7.7969125e-05]], dtype=float32)"
      ]
     },
     "execution_count": 22,
     "metadata": {},
     "output_type": "execute_result"
    }
   ],
   "source": [
    "livepreds"
   ]
  },
  {
   "cell_type": "code",
   "execution_count": 23,
   "id": "c3691e53-f843-473a-99bd-59a8fa1da5de",
   "metadata": {},
   "outputs": [
    {
     "data": {
      "text/plain": [
       "(1, 14)"
      ]
     },
     "execution_count": 23,
     "metadata": {},
     "output_type": "execute_result"
    }
   ],
   "source": [
    "livepreds.shape"
   ]
  },
  {
   "cell_type": "code",
   "execution_count": 24,
   "id": "9f5bb847-7372-434e-92ac-17d2b67f59b9",
   "metadata": {},
   "outputs": [
    {
     "data": {
      "text/plain": [
       "array([['female_fear']], dtype=object)"
      ]
     },
     "execution_count": 24,
     "metadata": {},
     "output_type": "execute_result"
    }
   ],
   "source": [
    "livepredictions = (encoder.inverse_transform((livepreds)))\n",
    "livepredictions"
   ]
  },
  {
   "cell_type": "code",
   "execution_count": null,
   "id": "2bf8894f-67b7-4b7f-b2ca-5518d853cdac",
   "metadata": {},
   "outputs": [],
   "source": []
  }
 ],
 "metadata": {
  "kernelspec": {
   "display_name": "Python 3 (ipykernel)",
   "language": "python",
   "name": "python3"
  },
  "language_info": {
   "codemirror_mode": {
    "name": "ipython",
    "version": 3
   },
   "file_extension": ".py",
   "mimetype": "text/x-python",
   "name": "python",
   "nbconvert_exporter": "python",
   "pygments_lexer": "ipython3",
   "version": "3.10.7"
  }
 },
 "nbformat": 4,
 "nbformat_minor": 5
}
